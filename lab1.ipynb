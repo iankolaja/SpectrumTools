{
 "cells": [
  {
   "cell_type": "code",
   "execution_count": 1,
   "metadata": {},
   "outputs": [],
   "source": [
    "from KoalaDetect.spectrum import Spectrum, Source\n",
    "\n"
   ]
  },
  {
   "cell_type": "code",
   "execution_count": 3,
   "metadata": {},
   "outputs": [
    {
     "name": "stdout",
     "output_type": "stream",
     "text": [
      "[0.6052472  0.67344009]\n"
     ]
    }
   ],
   "source": [
    "a = Spectrum(\"KoalaDetect/events.csv\")\n",
    "s1 = Source(3000, [605.4, 1392.42], [0.333, 0.666])\n",
    "s2 = Source(2000, [1210.8], [1.0])\n",
    "print(a.calibrate((s1,s2)))\n",
    "#print(a.find_peaks())\n",
    "a.show_histogram(\"a\")"
   ]
  }
 ],
 "metadata": {
  "kernelspec": {
   "display_name": "Python 3",
   "language": "python",
   "name": "python3"
  },
  "language_info": {
   "codemirror_mode": {
    "name": "ipython",
    "version": 3
   },
   "file_extension": ".py",
   "mimetype": "text/x-python",
   "name": "python",
   "nbconvert_exporter": "python",
   "pygments_lexer": "ipython3",
   "version": "3.7.5"
  }
 },
 "nbformat": 4,
 "nbformat_minor": 2
}
